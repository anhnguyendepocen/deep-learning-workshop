{
 "cells": [
  {
   "cell_type": "markdown",
   "metadata": {},
   "source": [
    "# Using TensorFlow directly\n",
    "\n",
    "So far we've looked at Keras, a library designed to make experimentation easy by expressing network architectures at a fairly high level. Here, we'll take a brief look at what using TensorFlow is like. We will re-make our [multi-layer, fully-connected example](02-notmnist-mlp-keras.ipynb).\n",
    "\n",
    "We will see that TensorFlow gives more direct access to the individual variables and computations inside the network. This can be handy for a few reasons:\n",
    "\n",
    "* Less \"magic\" -- you see more of what's happening, which may be useful pedagogically when learning, and also when debugging.\n",
    "* More low-level flexibility -- you can arrange the computation however you want.\n",
    "\n",
    "That said, I recommend using Keras or another higher level library when you don't need the full flexibility of TF. \n",
    "\n",
    "(This code is based on [a tensorflow tutorial](https://github.com/tensorflow/tensorflow/blob/master/tensorflow/examples/udacity/2_fullyconnected.ipynb))"
   ]
  },
  {
   "cell_type": "markdown",
   "metadata": {
    "colab_type": "text",
    "id": "kR-4eNdK6lYS"
   },
   "source": [
    "We will again be using the pickle file of the [notMNIST dataset](http://yaroslavvb.blogspot.com/2011/09/notmnist-dataset.html), same as in our Keras example."
   ]
  },
  {
   "cell_type": "code",
   "execution_count": null,
   "metadata": {
    "collapsed": true
   },
   "outputs": [],
   "source": [
    "# for DSX, need to switch to the right directory. Detect using path name.\n",
    "s = %pwd\n",
    "if s.startswith('/gpfs'):\n",
    "    %cd ~/deep-learning-workshop/"
   ]
  },
  {
   "cell_type": "code",
   "execution_count": 1,
   "metadata": {
    "cellView": "both",
    "colab": {
     "autoexec": {
      "startup": false,
      "wait_interval": 0
     }
    },
    "colab_type": "code",
    "collapsed": true,
    "id": "JLpLa8Jt7Vu4"
   },
   "outputs": [],
   "source": [
    "from __future__ import print_function\n",
    "import numpy as np\n",
    "import tensorflow as tf\n",
    "from six.moves import cPickle as pickle\n",
    "from six.moves import range"
   ]
  },
  {
   "cell_type": "markdown",
   "metadata": {},
   "source": [
    "# Loading the data\n",
    "\n",
    "This doesn't use the framework, so is the same as our Keras notebook."
   ]
  },
  {
   "cell_type": "code",
   "execution_count": 2,
   "metadata": {
    "collapsed": true
   },
   "outputs": [],
   "source": [
    "import notmnist\n",
    "notmnist_path = \"~/data/notmnist/notMNIST.pickle\""
   ]
  },
  {
   "cell_type": "code",
   "execution_count": 3,
   "metadata": {
    "collapsed": true
   },
   "outputs": [],
   "source": [
    "# the data, shuffled and split between train, validation, and test sets\n",
    "(x_train, y_train), (x_valid, y_valid), (x_test, y_test) = notmnist.load_data(notmnist_path)"
   ]
  },
  {
   "cell_type": "code",
   "execution_count": 4,
   "metadata": {
    "collapsed": false
   },
   "outputs": [
    {
     "name": "stdout",
     "output_type": "stream",
     "text": [
      "50000 train samples\n",
      "10000 valid samples\n",
      "10000 test samples\n"
     ]
    }
   ],
   "source": [
    "x_train = x_train.reshape(-1, 784)\n",
    "x_valid = x_valid.reshape(-1, 784)\n",
    "x_test = x_test.reshape(-1, 784)\n",
    "print(x_train.shape[0], 'train samples')\n",
    "print(x_valid.shape[0], 'valid samples')\n",
    "print(x_test.shape[0], 'test samples')"
   ]
  },
  {
   "cell_type": "code",
   "execution_count": 5,
   "metadata": {
    "collapsed": false
   },
   "outputs": [],
   "source": [
    "# convert class vectors to binary class matrices\n",
    "\n",
    "def to_categorical(labels, num_classes):\n",
    "    \"\"\"\n",
    "    Reimplementing the function from Keras np_utils.\n",
    "    \"\"\"\n",
    "    # (labels[:,None] adds an extra dimension, \n",
    "    # then numpy projects num_classes to 2D too)\n",
    "    labels = (np.arange(num_classes) == labels[:,None]).astype(np.float32)\n",
    "    return labels\n",
    "\n",
    "nb_classes = 10\n",
    "image_size = 28\n",
    "y_train = to_categorical(y_train, nb_classes)\n",
    "y_valid = to_categorical(y_valid, nb_classes)\n",
    "y_test = to_categorical(y_test, nb_classes)"
   ]
  },
  {
   "cell_type": "code",
   "execution_count": 6,
   "metadata": {
    "collapsed": false
   },
   "outputs": [
    {
     "name": "stdout",
     "output_type": "stream",
     "text": [
      "(50000, 784) (50000, 10)\n",
      "(10000, 784) (10000, 10)\n",
      "(10000, 784) (10000, 10)\n"
     ]
    }
   ],
   "source": [
    "# make sure shapes are right\n",
    "print(x_train.shape, y_train.shape)\n",
    "print(x_valid.shape, y_test.shape)\n",
    "print(x_test.shape, y_test.shape)"
   ]
  },
  {
   "cell_type": "markdown",
   "metadata": {
    "colab_type": "text",
    "id": "nCLVqyQ5vPPH"
   },
   "source": [
    "# Multinomial logistic regression\n",
    "\n",
    "We're first going to train a multinomial logistic regression using simple gradient descent.\n",
    "\n",
    "TensorFlow works like this:\n",
    "* First you describe the computation that you want to see performed: what the inputs, the variables, and the operations look like. These get created as nodes over a computation graph. This description is all contained within the block below:\n",
    "\n",
    "      with graph.as_default():\n",
    "          ...\n",
    "\n",
    "* Then you can run the operations on this graph as many times as you want by calling `session.run()`, providing it outputs to fetch from the graph that get returned. This runtime operation is all contained in the block below:\n",
    "\n",
    "      with tf.Session(graph=graph) as session:\n",
    "          ...\n",
    "\n",
    "Let's load all the data into TensorFlow and build the computation graph corresponding to our training:"
   ]
  },
  {
   "cell_type": "code",
   "execution_count": 24,
   "metadata": {
    "cellView": "both",
    "colab": {
     "autoexec": {
      "startup": false,
      "wait_interval": 0
     }
    },
    "colab_type": "code",
    "collapsed": false,
    "id": "Nfv39qvtvOl_"
   },
   "outputs": [],
   "source": [
    "# With gradient descent training, even this much data is prohibitive.\n",
    "# Subset the training data for faster turnaround.\n",
    "train_subset = 10000\n",
    "\n",
    "graph = tf.Graph()\n",
    "with graph.as_default():\n",
    "    # Input data. \n",
    "    # Load the training, validation and test data into constants that are\n",
    "    # attached to the graph.\n",
    "    tf_train_dataset = tf.constant(x_train[:train_subset, :])\n",
    "    tf_train_labels = tf.constant(y_train[:train_subset])\n",
    "    tf_valid_dataset = tf.constant(x_valid)\n",
    "    tf_test_dataset = tf.constant(x_test)\n",
    "\n",
    "    # Variables.\n",
    "    # These are the parameters that we are going to be training. The weight\n",
    "    # matrix will be initialized using random values following a (truncated)\n",
    "    # normal distribution. The biases get initialized to zero.\n",
    "    weights = tf.Variable(\n",
    "        tf.truncated_normal([image_size * image_size, nb_classes]))\n",
    "    biases = tf.Variable(tf.zeros([nb_classes]))\n",
    "\n",
    "    # Training computation.\n",
    "    # We multiply the inputs with the weight matrix, and add biases. We compute\n",
    "    # the softmax and cross-entropy (it's one operation in TensorFlow, because\n",
    "    # it's very common, and it can be optimized). We take the average of this\n",
    "    # cross-entropy across all training examples: that's our loss.\n",
    "    logits = tf.matmul(tf_train_dataset, weights) + biases\n",
    "    loss = tf.reduce_mean(\n",
    "        tf.nn.softmax_cross_entropy_with_logits(logits=logits, labels=tf_train_labels))\n",
    "\n",
    "    # Optimizer.\n",
    "    # We are going to find the minimum of this loss using gradient descent.\n",
    "    optimizer = tf.train.GradientDescentOptimizer(0.5).minimize(loss)\n",
    "\n",
    "    # Predictions for the training, validation, and test data.\n",
    "    # These are not part of training, but merely here so that we can report\n",
    "    # accuracy figures as we train.\n",
    "    train_prediction = tf.nn.softmax(logits)\n",
    "    valid_prediction = tf.nn.softmax(\n",
    "        tf.matmul(tf_valid_dataset, weights) + biases)\n",
    "    test_prediction = tf.nn.softmax(\n",
    "         tf.matmul(tf_test_dataset, weights) + biases)"
   ]
  },
  {
   "cell_type": "markdown",
   "metadata": {
    "colab_type": "text",
    "id": "KQcL4uqISHjP"
   },
   "source": [
    "Let's run this computation and iterate:"
   ]
  },
  {
   "cell_type": "code",
   "execution_count": 25,
   "metadata": {
    "collapsed": true
   },
   "outputs": [],
   "source": [
    "def accuracy(predictions, labels):\n",
    "    return (100.0 * np.sum(np.argmax(predictions, 1) == np.argmax(labels, 1))\n",
    "          / predictions.shape[0])"
   ]
  },
  {
   "cell_type": "code",
   "execution_count": 27,
   "metadata": {
    "cellView": "both",
    "colab": {
     "autoexec": {
      "startup": false,
      "wait_interval": 0
     },
     "output_extras": [
      {
       "item_id": 9
      }
     ]
    },
    "colab_type": "code",
    "collapsed": false,
    "executionInfo": {
     "elapsed": 57454,
     "status": "ok",
     "timestamp": 1449847994134,
     "user": {
      "color": "",
      "displayName": "",
      "isAnonymous": false,
      "isMe": true,
      "permissionId": "",
      "photoUrl": "",
      "sessionId": "0",
      "userId": ""
     },
     "user_tz": 480
    },
    "id": "z2cjdenH869W",
    "outputId": "4c037ba1-b526-4d8e-e632-91e2a0333267"
   },
   "outputs": [
    {
     "name": "stdout",
     "output_type": "stream",
     "text": [
      "Initialized\n",
      "Loss at step 0: 16.130016\n",
      "Training accuracy: 9.9%\n",
      "Validation accuracy: 13.8%\n",
      "Loss at step 100: 2.303081\n",
      "Training accuracy: 72.5%\n",
      "Validation accuracy: 70.9%\n",
      "Loss at step 200: 1.848797\n",
      "Training accuracy: 75.6%\n",
      "Validation accuracy: 73.7%\n",
      "Loss at step 300: 1.609403\n",
      "Training accuracy: 77.0%\n",
      "Validation accuracy: 74.9%\n",
      "Loss at step 400: 1.448529\n",
      "Training accuracy: 77.8%\n",
      "Validation accuracy: 75.2%\n",
      "Loss at step 500: 1.329500\n",
      "Training accuracy: 78.4%\n",
      "Validation accuracy: 75.2%\n",
      "Loss at step 600: 1.236034\n",
      "Training accuracy: 78.9%\n",
      "Validation accuracy: 75.3%\n",
      "Loss at step 700: 1.159743\n",
      "Training accuracy: 79.5%\n",
      "Validation accuracy: 75.5%\n",
      "Loss at step 800: 1.095791\n",
      "Training accuracy: 80.0%\n",
      "Validation accuracy: 75.5%\n",
      "Test accuracy: 82.5%\n"
     ]
    }
   ],
   "source": [
    "num_steps = 801\n",
    "\n",
    "\n",
    "with tf.Session(graph=graph) as session:\n",
    "      # This is a one-time operation which ensures the parameters get initialized as\n",
    "    # we described in the graph: random weights for the matrix, zeros for the\n",
    "    # biases. \n",
    "    tf.global_variables_initializer().run()\n",
    "    print('Initialized')\n",
    "    for step in range(num_steps):\n",
    "        # Run the computations. We tell .run() that we want to run the optimizer,\n",
    "        # and get the loss value and the training predictions returned as numpy\n",
    "        # arrays.\n",
    "        _, l, predictions = session.run([optimizer, loss, train_prediction])\n",
    "        if (step % 100 == 0):\n",
    "            print('Loss at step %d: %f' % (step, l))\n",
    "            print('Training accuracy: %.1f%%' % accuracy(\n",
    "                predictions, y_train[:train_subset, :]))\n",
    "            # Calling .eval() on valid_prediction is basically like calling run(), but\n",
    "            # just to get that one numpy array. Note that it recomputes all its graph\n",
    "            # dependencies.\n",
    "            print('Validation accuracy: %.1f%%' % accuracy(\n",
    "                valid_prediction.eval(), y_valid))\n",
    "    print('Test accuracy: %.1f%%' % accuracy(test_prediction.eval(), y_test))"
   ]
  },
  {
   "cell_type": "markdown",
   "metadata": {
    "colab_type": "text",
    "id": "x68f-hxRGm3H"
   },
   "source": [
    "Let's now switch to stochastic gradient descent training instead, which is much faster.\n",
    "\n",
    "The graph will be similar, except that instead of holding all the training data into a constant node, we create a `Placeholder` node which will be fed actual data at every call of `session.run()`."
   ]
  },
  {
   "cell_type": "code",
   "execution_count": 17,
   "metadata": {
    "collapsed": true
   },
   "outputs": [],
   "source": [
    "batch_size = 128"
   ]
  },
  {
   "cell_type": "code",
   "execution_count": 30,
   "metadata": {
    "cellView": "both",
    "colab": {
     "autoexec": {
      "startup": false,
      "wait_interval": 0
     }
    },
    "colab_type": "code",
    "collapsed": false,
    "id": "qhPMzWYRGrzM"
   },
   "outputs": [],
   "source": [
    "graph = tf.Graph()\n",
    "with graph.as_default():\n",
    "    # Input data. For the training data, we use a placeholder that will be fed\n",
    "    # at run time with a training minibatch.\n",
    "    tf_train_dataset = tf.placeholder(tf.float32,\n",
    "                                      shape=(batch_size, image_size * image_size))\n",
    "    tf_train_labels = tf.placeholder(tf.float32, shape=(batch_size, nb_classes))\n",
    "    tf_valid_dataset = tf.constant(x_valid)\n",
    "    tf_test_dataset = tf.constant(x_test)\n",
    "    \n",
    "    # Variables.\n",
    "    weights = tf.Variable(\n",
    "        tf.truncated_normal([image_size * image_size, nb_classes]))\n",
    "    biases = tf.Variable(tf.zeros([nb_classes]))\n",
    "    \n",
    "    # Training computation.\n",
    "    logits = tf.matmul(tf_train_dataset, weights) + biases\n",
    "    loss = tf.reduce_mean(\n",
    "        tf.nn.softmax_cross_entropy_with_logits(logits=logits, labels=tf_train_labels))\n",
    "    \n",
    "    # Optimizer.\n",
    "    optimizer = tf.train.GradientDescentOptimizer(0.5).minimize(loss)\n",
    "    \n",
    "    # Predictions for the training, validation, and test data.\n",
    "    train_prediction = tf.nn.softmax(logits)\n",
    "    valid_prediction = tf.nn.softmax(\n",
    "        tf.matmul(tf_valid_dataset, weights) + biases)\n",
    "    test_prediction = tf.nn.softmax(\n",
    "        tf.matmul(tf_test_dataset, weights) + biases)\n",
    "      "
   ]
  },
  {
   "cell_type": "markdown",
   "metadata": {
    "colab_type": "text",
    "id": "XmVZESmtG4JH"
   },
   "source": [
    "Let's run it:"
   ]
  },
  {
   "cell_type": "code",
   "execution_count": 33,
   "metadata": {
    "cellView": "both",
    "colab": {
     "autoexec": {
      "startup": false,
      "wait_interval": 0
     },
     "output_extras": [
      {
       "item_id": 6
      }
     ]
    },
    "colab_type": "code",
    "collapsed": false,
    "executionInfo": {
     "elapsed": 66292,
     "status": "ok",
     "timestamp": 1449848003013,
     "user": {
      "color": "",
      "displayName": "",
      "isAnonymous": false,
      "isMe": true,
      "permissionId": "",
      "photoUrl": "",
      "sessionId": "0",
      "userId": ""
     },
     "user_tz": 480
    },
    "id": "FoF91pknG_YW",
    "outputId": "d255c80e-954d-4183-ca1c-c7333ce91d0a"
   },
   "outputs": [
    {
     "name": "stdout",
     "output_type": "stream",
     "text": [
      "Initialized\n",
      "Minibatch loss at step 0: 17.644871\n",
      "Minibatch accuracy: 6.2%\n",
      "Validation accuracy: 13.8%\n",
      "Minibatch loss at step 500: 1.320502\n",
      "Minibatch accuracy: 75.8%\n",
      "Validation accuracy: 75.2%\n",
      "Minibatch loss at step 1000: 0.818259\n",
      "Minibatch accuracy: 81.2%\n",
      "Validation accuracy: 76.3%\n",
      "Minibatch loss at step 1500: 1.194087\n",
      "Minibatch accuracy: 77.3%\n",
      "Validation accuracy: 77.5%\n",
      "Minibatch loss at step 2000: 1.157571\n",
      "Minibatch accuracy: 76.6%\n",
      "Validation accuracy: 77.4%\n",
      "Minibatch loss at step 2500: 1.027862\n",
      "Minibatch accuracy: 74.2%\n",
      "Validation accuracy: 77.9%\n",
      "Minibatch loss at step 3000: 0.824554\n",
      "Minibatch accuracy: 84.4%\n",
      "Validation accuracy: 78.5%\n",
      "Test accuracy: 86.1%\n"
     ]
    }
   ],
   "source": [
    "num_steps = 3001\n",
    "\n",
    "with tf.Session(graph=graph) as session:\n",
    "    tf.global_variables_initializer().run()\n",
    "    print(\"Initialized\")\n",
    "    for step in range(num_steps):\n",
    "        # Pick an offset within the training data, which has been randomized.\n",
    "        # Note: we could use better randomization across epochs.\n",
    "        offset = (step * batch_size) % (y_train.shape[0] - batch_size)\n",
    "        # Generate a minibatch.\n",
    "        batch_data = x_train[offset:(offset + batch_size), :]\n",
    "        batch_labels = y_train[offset:(offset + batch_size), :]\n",
    "        # Prepare a dictionary telling the session where to feed the minibatch.\n",
    "        # The key of the dictionary is the placeholder node of the graph to be fed,\n",
    "        # and the value is the numpy array to feed to it.\n",
    "        feed_dict = {tf_train_dataset : batch_data, tf_train_labels : batch_labels}\n",
    "        _, l, predictions = session.run(\n",
    "          [optimizer, loss, train_prediction], feed_dict=feed_dict)\n",
    "        if (step % 500 == 0):\n",
    "            print(\"Minibatch loss at step %d: %f\" % (step, l))\n",
    "            print(\"Minibatch accuracy: %.1f%%\" % accuracy(predictions, batch_labels))\n",
    "            print(\"Validation accuracy: %.1f%%\" % accuracy(\n",
    "                valid_prediction.eval(), y_valid))\n",
    "    print(\"Test accuracy: %.1f%%\" % accuracy(\n",
    "            test_prediction.eval(), y_test))"
   ]
  },
  {
   "cell_type": "markdown",
   "metadata": {
    "colab_type": "text",
    "id": "7omWxtvLLxik"
   },
   "source": [
    "# Multi-layer example\n",
    "\n",
    "Now we'll make the same model as model3 from [our Keras example](02-notmnist-mlp-keras.ipynb) -- two dense layers, with dropout. We'll reorganize our code to be a bit neater while we're at it.\n",
    "\n",
    "(Code structure roughly based on tensorflow mnist, cifar10 examples. Thanks!)"
   ]
  },
  {
   "cell_type": "code",
   "execution_count": 7,
   "metadata": {
    "collapsed": true
   },
   "outputs": [],
   "source": [
    "# Constants\n",
    "IMAGE_SIZE = 28\n",
    "IMAGE_PIXELS = IMAGE_SIZE * IMAGE_SIZE\n",
    "NUM_LABELS = 10\n",
    "\n",
    "_DEBUG = False # if true, print more\n",
    "\n",
    "def dprint(*args):\n",
    "    \"\"\"\n",
    "    print, but only if _DEBUG.\n",
    "    \"\"\"\n",
    "    if _DEBUG:\n",
    "        print(*args)\n"
   ]
  },
  {
   "cell_type": "code",
   "execution_count": 8,
   "metadata": {
    "collapsed": true
   },
   "outputs": [],
   "source": [
    "def placeholder_inputs():\n",
    "    \"\"\"\n",
    "    Returns:\n",
    "        tuple (images_placeholder, labels_placeholder, keep_prob)\n",
    "    \"\"\"\n",
    "    with tf.name_scope('input'):\n",
    "        images_placeholder = tf.placeholder(tf.float32, shape=(None, IMAGE_PIXELS), name=\"images\")\n",
    "        labels_placeholder = tf.placeholder(tf.float32, shape=(None, NUM_LABELS), name=\"labels\")\n",
    "\n",
    "        # use a placeholder so we can use 1.0 (no dropout) for test/validation, and a lower value\n",
    "        # for training\n",
    "        keep_prob = tf.placeholder(tf.float32, name=\"keep_prob\")\n",
    "        tf.summary.scalar('dropout_keep_probability', keep_prob)\n",
    "\n",
    "    return (images_placeholder, labels_placeholder, keep_prob)\n"
   ]
  },
  {
   "cell_type": "code",
   "execution_count": 9,
   "metadata": {
    "collapsed": true
   },
   "outputs": [],
   "source": [
    "def add_variable_summaries(var, name):\n",
    "    \"\"\"\n",
    "    Attach summaries to a Tensor, for use in Tensorboard: mean, stddev, max, min, histogram.\n",
    "\n",
    "    Args:\n",
    "        var: a tensor\n",
    "        name: name to use for the summary\n",
    "    \"\"\"\n",
    "    with tf.name_scope('summaries'):\n",
    "        mean = tf.reduce_mean(var)\n",
    "        tf.summary.scalar('mean/' + name, mean)\n",
    "        with tf.name_scope('stddev'):\n",
    "            stddev = tf.sqrt(tf.reduce_mean(tf.square(var - mean)))\n",
    "        tf.summary.scalar('sttdev/' + name, stddev)\n",
    "        tf.summary.scalar('max/' + name, tf.reduce_max(var))\n",
    "        tf.summary.scalar('min/' + name, tf.reduce_min(var))\n",
    "        tf.histogram_summary(name, var)"
   ]
  },
  {
   "cell_type": "code",
   "execution_count": 10,
   "metadata": {
    "collapsed": true
   },
   "outputs": [],
   "source": [
    "def inference(images, keep_prob, **kwargs):\n",
    "    \"\"\"\n",
    "    Inference for a deeper network with two layers.\n",
    "\n",
    "    Args:\n",
    "        images: 2D tensor [batch_size, IMAGE_SIZE*IMAGE_SIZE]\n",
    "            (grayscale images, so no depth dimension). May be a placeholder or constant.\n",
    "        keep_prob: for dropout, probability of keeping an activation -- for validation and\n",
    "            test, set to 1.0 for no dropout.\n",
    "\n",
    "    Returns:\n",
    "        logits: tf object that corresponds to the logits for the images: [batch_size, NUM_LABELS]\n",
    "    \"\"\"\n",
    "    beta = 0.001  # how much regularization to do\n",
    "    keep_prob = 0.5  # if using dropout\n",
    "    hidden_units = [256, 128, NUM_LABELS]\n",
    "\n",
    "    def make_hidden_layer(name, input_tensor, output_size, last_layer=False):\n",
    "        \"\"\"\n",
    "        If last_layer=True, make logits, without a relu\n",
    "        \"\"\"\n",
    "        if isinstance(input_tensor, np.ndarray):\n",
    "            input_size = input_tensor.shape[1]\n",
    "        else:\n",
    "            # otherwise, should be a TF Tensor.\n",
    "            input_size = int(input_tensor.get_shape()[1])\n",
    "        dprint(\"creating hidden layer with input_size {}, output_size {}\".format(input_size, output_size))\n",
    "        with tf.variable_scope(layer_name):\n",
    "            weights = tf.get_variable(\"weights\",\n",
    "                                  initializer=tf.truncated_normal([input_size, output_size]),\n",
    "                                  regularizer=tf.contrib.layers.l2_regularizer(beta))\n",
    "            # no regularizer for biases\n",
    "            biases = tf.get_variable(\"biases\", initializer=tf.zeros([output_size]))\n",
    "            if not last_layer:\n",
    "                hidden = tf.nn.relu(tf.matmul(input_tensor, weights) + biases, name=\"hidden\")\n",
    "                dropped = tf.nn.dropout(hidden, keep_prob)\n",
    "                return dropped\n",
    "            else:\n",
    "                dprint(\"Last layer. Creating logits instead of a relu.\")\n",
    "                logits = tf.matmul(layer_input, weights) + biases\n",
    "                return logits\n",
    "\n",
    "    layer_input = images\n",
    "    for i, layer_size in enumerate(hidden_units):\n",
    "        layer_name = \"hidden_\"+str(i)\n",
    "        is_last_layer = (i == len(hidden_units)-1)\n",
    "        layer_input = make_hidden_layer(layer_name, layer_input, layer_size, is_last_layer)\n",
    "\n",
    "    return layer_input  # logits"
   ]
  },
  {
   "cell_type": "code",
   "execution_count": 11,
   "metadata": {
    "collapsed": true
   },
   "outputs": [],
   "source": [
    "def loss(logits, labels_placeholder):\n",
    "    \"\"\"\n",
    "    Compute the loss for the given logits, labels.\n",
    "    \"\"\"\n",
    "    with tf.name_scope(\"loss\"):\n",
    "        total_loss = tf.reduce_mean(\n",
    "            tf.nn.softmax_cross_entropy_with_logits(logits=logits, labels=labels_placeholder))\n",
    "\n",
    "        reg_losses = tf.get_collection(tf.GraphKeys.REGULARIZATION_LOSSES)\n",
    "        if len(reg_losses):\n",
    "            reg_loss = tf.add_n(reg_losses)\n",
    "            total_loss += reg_loss\n",
    "            tf.summary.scalar(\"regularization loss\", reg_loss)\n",
    "\n",
    "        tf.summary.scalar(\"total loss\", total_loss)\n",
    "    return total_loss\n"
   ]
  },
  {
   "cell_type": "code",
   "execution_count": 19,
   "metadata": {
    "collapsed": true
   },
   "outputs": [],
   "source": [
    "def train(total_loss, step_counter, initial_learning_rate=0.5):\n",
    "    \"\"\"\n",
    "    Train the network using SGD.\n",
    "\n",
    "    Args:\n",
    "        total_loss: tensor from loss()\n",
    "        global_step: Integer Variable counting steps -- used to reduce learning rate.\n",
    "\n",
    "    Returns:\n",
    "        train_op: op for training\n",
    "    \"\"\"\n",
    "    # initial * decay_rate^(global_step / decay_steps)\n",
    "    decay_steps = 10000   # smaller means faster\n",
    "    decay_rate = 0.96     # smaller means faster\n",
    "    with tf.name_scope(\"train\"):\n",
    "        learning_rate = tf.train.exponential_decay(initial_learning_rate, step_counter, 10000, 0.96)\n",
    "        tf.summary.scalar(\"learning rate\", learning_rate)\n",
    "        optimizer = tf.train.GradientDescentOptimizer(learning_rate).minimize(\n",
    "            total_loss, global_step=step_counter)\n",
    "\n",
    "    return optimizer\n"
   ]
  },
  {
   "cell_type": "code",
   "execution_count": 12,
   "metadata": {
    "collapsed": true
   },
   "outputs": [],
   "source": [
    "def predict(logits):\n",
    "    \"\"\"\n",
    "    Return the prediction given logits.\n",
    "    \"\"\"\n",
    "    with tf.name_scope(\"output\"):\n",
    "        return tf.nn.softmax(logits)\n"
   ]
  },
  {
   "cell_type": "code",
   "execution_count": 13,
   "metadata": {
    "collapsed": true
   },
   "outputs": [],
   "source": [
    "def batch_data_and_labels(step, batch_size, train_dataset, train_labels):\n",
    "    \"\"\"\n",
    "    Get data for training a batch. Assumes the dataset has been randomized.\n",
    "\n",
    "    Returns:\n",
    "        tuple (batch_data, batch_labels)\n",
    "    \"\"\"\n",
    "    # Pick an offset within the training data, which has been randomized.\n",
    "    # Note: we could use better randomization across epochs.\n",
    "    offset = (step * batch_size) % (train_labels.shape[0] - batch_size)\n",
    "    # Generate a minibatch.\n",
    "    batch_data = train_dataset[offset:(offset + batch_size), :]\n",
    "    batch_labels = train_labels[offset:(offset + batch_size), :]\n",
    "    return batch_data, batch_labels\n",
    "\n"
   ]
  },
  {
   "cell_type": "code",
   "execution_count": 22,
   "metadata": {
    "collapsed": true
   },
   "outputs": [],
   "source": [
    "def run_experiment(data, batch_size, num_steps,\n",
    "                  inference_fn,\n",
    "                  initial_learning_rate=0.5,\n",
    "                  dropout=False):\n",
    "    \"\"\"\n",
    "    Helper function to train and test a network. Makes a new graph, session.\n",
    "\n",
    "    Args:\n",
    "        data: {'train': (data, labels), 'valid': ..., 'test': ...}\n",
    "        batch_size, num_steps: parameters\n",
    "        inference_fn: function: images->logits. Defines network structure.\n",
    "        initial_learning_rate: pass to the optimizer\n",
    "        dropout: if True, use dropout. inference_fn has to take a\n",
    "             dropout param.\n",
    "    \"\"\"\n",
    "\n",
    "    # Create the graph\n",
    "    graph = tf.Graph()\n",
    "    with graph.as_default():\n",
    "        step_counter = tf.Variable(0, name=\"step_counter\")  # used to decay the learning rate\n",
    "        images_placeholder, labels_placeholder, keep_prob = placeholder_inputs()\n",
    "        # for training\n",
    "        logits = inference_fn(images_placeholder, keep_prob=keep_prob)\n",
    "        total_loss = loss(logits, labels_placeholder)\n",
    "        train_op = train(total_loss, step_counter,\n",
    "                           initial_learning_rate=initial_learning_rate)\n",
    "        prediction = predict(logits)\n",
    "\n",
    "        with tf.name_scope('accuracy'):\n",
    "            with tf.name_scope('correct_prediction'):\n",
    "                correct_prediction = tf.equal(tf.argmax(labels_placeholder, 1), tf.argmax(prediction, 1))\n",
    "            with tf.name_scope('accuracy'):\n",
    "                accuracy = tf.reduce_mean(tf.cast(correct_prediction, tf.float32))\n",
    "        tf.summary.scalar('accuracy', accuracy)\n",
    "\n",
    "\n",
    "    def feed_dict(which_data, step=None):\n",
    "        \"\"\"\n",
    "        Args:\n",
    "            which_data: str -- either 'train', 'valid', or 'test'. If train, use the real\n",
    "                dropout probability and the next batch of training data. Otherwise, no\n",
    "                dropout, and appropriate data.\n",
    "            step: for 'train' mode: which step is this, for getting the next batch of data.\n",
    "        Returns:\n",
    "            dict mapping data into placeholders.\n",
    "        \"\"\"\n",
    "        if which_data == 'train':\n",
    "            batch_data, batch_labels = batch_data_and_labels(\n",
    "                step, batch_size, *data['train'])\n",
    "\n",
    "            # What values to feed to the placeholders?\n",
    "            feed_dict = {images_placeholder : batch_data,\n",
    "                         labels_placeholder : batch_labels,\n",
    "                         keep_prob: 0.5}\n",
    "        else:\n",
    "            x, y = data[which_data]\n",
    "            feed_dict = {images_placeholder : x,\n",
    "                         labels_placeholder : y,\n",
    "                         keep_prob: 1.0}\n",
    "        return feed_dict\n",
    "\n",
    "\n",
    "    with tf.Session(graph=graph) as session:\n",
    "        merged = tf.summary.merge_all()\n",
    "        # run 'tensorboard --logdir=./logs/tensorflow-demo'\n",
    "        writer = tf.summary.FileWriter(\"./logs/tensorflow-demo\", graph)\n",
    "        tf.global_variables_initializer().run()\n",
    "        print(\"Initialized\")\n",
    "        for step in range(num_steps):\n",
    "\n",
    "            # run the network to train\n",
    "            summary, _, batch_loss, batch_accuracy = session.run(\n",
    "              [merged, train_op, total_loss, accuracy], feed_dict=feed_dict('train', step))\n",
    "            writer.add_summary(summary, step)\n",
    "\n",
    "            # blow up if loss is nan\n",
    "            if np.isnan(batch_loss):\n",
    "                raise ValueError(\"Batch loss is NaN! (Try lowering learning rate)\")\n",
    "\n",
    "            if (step) % 500 == 0 or (step+1)==num_steps:\n",
    "                # Compute validation and test accuracy, stats\n",
    "                summary, valid_accuracy = session.run([merged, accuracy], feed_dict('valid'))\n",
    "                writer.add_summary(summary, step)\n",
    "                print()\n",
    "                print(\"Minibatch loss at step %d: %f\" % (step, batch_loss))\n",
    "                print(\"Minibatch accuracy: %.3f\" % batch_accuracy)\n",
    "                print(\"Validation accuracy: %.3f\" % valid_accuracy)\n",
    "\n",
    "        summary, test_accuracy = session.run([merged, accuracy], feed_dict('test'))\n",
    "        writer.add_summary(summary, step)\n",
    "        print(\"\\nTest accuracy: %.3f\" % test_accuracy)\n"
   ]
  },
  {
   "cell_type": "code",
   "execution_count": 15,
   "metadata": {
    "collapsed": false
   },
   "outputs": [],
   "source": [
    "data = {\"train\": (x_train, y_train),\n",
    "        \"valid\": (x_valid, y_valid),\n",
    "        \"test\": (x_test, y_test)}"
   ]
  },
  {
   "cell_type": "code",
   "execution_count": 23,
   "metadata": {
    "collapsed": false
   },
   "outputs": [
    {
     "name": "stdout",
     "output_type": "stream",
     "text": [
      "INFO:tensorflow:Summary name regularization loss is illegal; using regularization_loss instead.\n",
      "INFO:tensorflow:Summary name total loss is illegal; using total_loss instead.\n",
      "INFO:tensorflow:Summary name learning rate is illegal; using learning_rate instead.\n",
      "Initialized\n",
      "\n",
      "Minibatch loss at step 0: 2441.237549\n",
      "Minibatch accuracy: 0.094\n",
      "Validation accuracy: 0.174\n",
      "\n",
      "Minibatch loss at step 500: 85.890900\n",
      "Minibatch accuracy: 0.102\n",
      "Validation accuracy: 0.111\n",
      "\n",
      "Minibatch loss at step 1000: 77.978088\n",
      "Minibatch accuracy: 0.086\n",
      "Validation accuracy: 0.111\n",
      "\n",
      "Minibatch loss at step 1500: 70.709419\n",
      "Minibatch accuracy: 0.141\n",
      "Validation accuracy: 0.108\n",
      "\n",
      "Minibatch loss at step 2000: 64.264053\n",
      "Minibatch accuracy: 0.117\n",
      "Validation accuracy: 0.108\n",
      "\n",
      "Minibatch loss at step 2500: 58.552341\n",
      "Minibatch accuracy: 0.086\n",
      "Validation accuracy: 0.107\n",
      "\n",
      "Minibatch loss at step 3000: 53.128201\n",
      "Minibatch accuracy: 0.102\n",
      "Validation accuracy: 0.110\n",
      "\n",
      "Minibatch loss at step 3500: 48.335041\n",
      "Minibatch accuracy: 0.078\n",
      "Validation accuracy: 0.111\n",
      "\n",
      "Minibatch loss at step 4000: 44.014683\n",
      "Minibatch accuracy: 0.164\n",
      "Validation accuracy: 0.112\n",
      "\n",
      "Minibatch loss at step 4500: 40.106197\n",
      "Minibatch accuracy: 0.062\n",
      "Validation accuracy: 0.119\n",
      "\n",
      "Minibatch loss at step 5000: 36.571156\n",
      "Minibatch accuracy: 0.109\n",
      "Validation accuracy: 0.115\n",
      "\n",
      "Minibatch loss at step 5500: 33.394665\n",
      "Minibatch accuracy: 0.117\n",
      "Validation accuracy: 0.116\n",
      "\n",
      "Minibatch loss at step 6000: 30.442543\n",
      "Minibatch accuracy: 0.148\n",
      "Validation accuracy: 0.119\n",
      "\n",
      "Minibatch loss at step 6500: 27.857460\n",
      "Minibatch accuracy: 0.148\n",
      "Validation accuracy: 0.119\n",
      "\n",
      "Minibatch loss at step 7000: 25.455006\n",
      "Minibatch accuracy: 0.148\n",
      "Validation accuracy: 0.119\n",
      "\n",
      "Minibatch loss at step 7500: 23.295736\n",
      "Minibatch accuracy: 0.117\n",
      "Validation accuracy: 0.123\n",
      "\n",
      "Minibatch loss at step 8000: 21.301912\n",
      "Minibatch accuracy: 0.133\n",
      "Validation accuracy: 0.128\n",
      "\n",
      "Minibatch loss at step 8500: 19.507389\n",
      "Minibatch accuracy: 0.164\n",
      "Validation accuracy: 0.138\n",
      "\n",
      "Minibatch loss at step 9000: 17.896339\n",
      "Minibatch accuracy: 0.180\n",
      "Validation accuracy: 0.159\n",
      "\n",
      "Minibatch loss at step 9500: 16.456451\n",
      "Minibatch accuracy: 0.164\n",
      "Validation accuracy: 0.181\n",
      "\n",
      "Minibatch loss at step 10000: 15.076572\n",
      "Minibatch accuracy: 0.188\n",
      "Validation accuracy: 0.181\n",
      "\n",
      "Minibatch loss at step 10500: 13.897976\n",
      "Minibatch accuracy: 0.227\n",
      "Validation accuracy: 0.189\n",
      "\n",
      "Minibatch loss at step 11000: 12.796077\n",
      "Minibatch accuracy: 0.195\n",
      "Validation accuracy: 0.209\n",
      "\n",
      "Minibatch loss at step 11500: 11.817317\n",
      "Minibatch accuracy: 0.211\n",
      "Validation accuracy: 0.237\n",
      "\n",
      "Minibatch loss at step 12000: 10.649626\n",
      "Minibatch accuracy: 0.391\n",
      "Validation accuracy: 0.292\n",
      "\n",
      "Minibatch loss at step 12500: 10.011646\n",
      "Minibatch accuracy: 0.344\n",
      "Validation accuracy: 0.345\n",
      "\n",
      "Minibatch loss at step 13000: 8.887094\n",
      "Minibatch accuracy: 0.383\n",
      "Validation accuracy: 0.383\n",
      "\n",
      "Minibatch loss at step 13500: 8.135044\n",
      "Minibatch accuracy: 0.414\n",
      "Validation accuracy: 0.409\n",
      "\n",
      "Minibatch loss at step 14000: 7.542414\n",
      "Minibatch accuracy: 0.438\n",
      "Validation accuracy: 0.463\n",
      "\n",
      "Minibatch loss at step 14500: 6.723165\n",
      "Minibatch accuracy: 0.570\n",
      "Validation accuracy: 0.508\n",
      "\n",
      "Minibatch loss at step 15000: 6.375392\n",
      "Minibatch accuracy: 0.531\n",
      "Validation accuracy: 0.551\n",
      "\n",
      "Minibatch loss at step 15500: 5.535656\n",
      "Minibatch accuracy: 0.688\n",
      "Validation accuracy: 0.613\n",
      "\n",
      "Minibatch loss at step 16000: 5.086821\n",
      "Minibatch accuracy: 0.664\n",
      "Validation accuracy: 0.638\n",
      "\n",
      "Minibatch loss at step 16500: 4.706111\n",
      "Minibatch accuracy: 0.648\n",
      "Validation accuracy: 0.684\n",
      "\n",
      "Minibatch loss at step 17000: 4.243675\n",
      "Minibatch accuracy: 0.734\n",
      "Validation accuracy: 0.712\n",
      "\n",
      "Minibatch loss at step 17500: 4.076812\n",
      "Minibatch accuracy: 0.680\n",
      "Validation accuracy: 0.730\n",
      "\n",
      "Minibatch loss at step 18000: 3.690575\n",
      "Minibatch accuracy: 0.734\n",
      "Validation accuracy: 0.752\n",
      "\n",
      "Minibatch loss at step 18500: 3.301471\n",
      "Minibatch accuracy: 0.812\n",
      "Validation accuracy: 0.762\n",
      "\n",
      "Minibatch loss at step 19000: 2.957597\n",
      "Minibatch accuracy: 0.812\n",
      "Validation accuracy: 0.769\n",
      "\n",
      "Minibatch loss at step 19500: 2.803447\n",
      "Minibatch accuracy: 0.797\n",
      "Validation accuracy: 0.775\n",
      "\n",
      "Minibatch loss at step 20000: 2.453422\n",
      "Minibatch accuracy: 0.875\n",
      "Validation accuracy: 0.784\n",
      "\n",
      "Minibatch loss at step 20500: 2.205490\n",
      "Minibatch accuracy: 0.883\n",
      "Validation accuracy: 0.792\n",
      "\n",
      "Minibatch loss at step 21000: 2.287188\n",
      "Minibatch accuracy: 0.859\n",
      "Validation accuracy: 0.788\n",
      "\n",
      "Minibatch loss at step 21500: 2.248846\n",
      "Minibatch accuracy: 0.766\n",
      "Validation accuracy: 0.798\n",
      "\n",
      "Minibatch loss at step 22000: 1.936399\n",
      "Minibatch accuracy: 0.852\n",
      "Validation accuracy: 0.798\n",
      "\n",
      "Minibatch loss at step 22500: 2.042727\n",
      "Minibatch accuracy: 0.750\n",
      "Validation accuracy: 0.807\n",
      "\n",
      "Minibatch loss at step 23000: 1.749261\n",
      "Minibatch accuracy: 0.812\n",
      "Validation accuracy: 0.809\n",
      "\n",
      "Minibatch loss at step 23500: 1.733096\n",
      "Minibatch accuracy: 0.789\n",
      "Validation accuracy: 0.814\n",
      "\n",
      "Minibatch loss at step 24000: 1.587294\n",
      "Minibatch accuracy: 0.828\n",
      "Validation accuracy: 0.817\n",
      "\n",
      "Minibatch loss at step 24500: 1.543756\n",
      "Minibatch accuracy: 0.789\n",
      "Validation accuracy: 0.819\n",
      "\n",
      "Minibatch loss at step 25000: 1.387842\n",
      "Minibatch accuracy: 0.828\n",
      "Validation accuracy: 0.825\n",
      "\n",
      "Minibatch loss at step 25500: 1.358378\n",
      "Minibatch accuracy: 0.812\n",
      "Validation accuracy: 0.824\n",
      "\n",
      "Minibatch loss at step 26000: 1.222609\n",
      "Minibatch accuracy: 0.844\n",
      "Validation accuracy: 0.827\n",
      "\n",
      "Minibatch loss at step 26500: 1.213051\n",
      "Minibatch accuracy: 0.820\n",
      "Validation accuracy: 0.826\n",
      "\n",
      "Minibatch loss at step 27000: 1.123745\n",
      "Minibatch accuracy: 0.844\n",
      "Validation accuracy: 0.832\n",
      "\n",
      "Minibatch loss at step 27500: 1.167049\n",
      "Minibatch accuracy: 0.789\n",
      "Validation accuracy: 0.829\n",
      "\n",
      "Minibatch loss at step 28000: 0.826908\n",
      "Minibatch accuracy: 0.891\n",
      "Validation accuracy: 0.831\n",
      "\n",
      "Minibatch loss at step 28500: 0.966332\n",
      "Minibatch accuracy: 0.852\n",
      "Validation accuracy: 0.837\n",
      "\n",
      "Minibatch loss at step 29000: 1.001934\n",
      "Minibatch accuracy: 0.852\n",
      "Validation accuracy: 0.834\n",
      "\n",
      "Minibatch loss at step 29500: 0.912894\n",
      "Minibatch accuracy: 0.875\n",
      "Validation accuracy: 0.835\n",
      "\n",
      "Minibatch loss at step 29999: 0.886892\n",
      "Minibatch accuracy: 0.828\n",
      "Validation accuracy: 0.838\n",
      "\n",
      "Test accuracy: 0.900\n"
     ]
    }
   ],
   "source": [
    "run_experiment(data, batch_size=batch_size, num_steps=30000,\n",
    "              inference_fn=inference, dropout=True,\n",
    "              initial_learning_rate=0.1)"
   ]
  },
  {
   "cell_type": "markdown",
   "metadata": {
    "collapsed": true
   },
   "source": [
    "One difference between this and our Keras code is that here we use regular SGD (stochastic gradient descent), rather than the RMSprop optimizer we used with Keras. That makes training a bit slower, so we get lower accuracy, even after training a bit longer. \n",
    "\n",
    "Let's look at our tensorboard output:\n",
    "\n",
    "## The compute graph\n",
    "Looks neater than with Keras -- we can control the grouping ourselves.\n",
    "<img src=\"img/tf-demo-tb-graph.png\" width=\"400px\">\n",
    "\n",
    "## Accuracy:\n",
    "<img src=\"img/tf-demo-accuracy.png\" width=\"400px\">\n",
    "\n",
    "## Losses\n",
    "Our model uses regularization to encourage weights to be smaller, and our code tracks that part of the loss separately.\n",
    "<img src=\"img/tf-demo-losses.png\" width=\"400px\">\n"
   ]
  }
 ],
 "metadata": {
  "anaconda-cloud": {},
  "colab": {
   "default_view": {},
   "name": "2_fullyconnected.ipynb",
   "provenance": [],
   "version": "0.3.2",
   "views": {}
  },
  "kernelspec": {
   "display_name": "Python [default]",
   "language": "python",
   "name": "python2"
  },
  "language_info": {
   "codemirror_mode": {
    "name": "ipython",
    "version": 2
   },
   "file_extension": ".py",
   "mimetype": "text/x-python",
   "name": "python",
   "nbconvert_exporter": "python",
   "pygments_lexer": "ipython2",
   "version": "2.7.12"
  }
 },
 "nbformat": 4,
 "nbformat_minor": 0
}
