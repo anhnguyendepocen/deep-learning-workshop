{
 "cells": [
  {
   "cell_type": "markdown",
   "metadata": {},
   "source": [
    "# Adding visualization to our network\n",
    "\n",
    "When training real models, it's crucial to see what's happening as the network learns. If you're using TensorFlow or Keras with the TF backend, you can use a visualization tool called TensorBoard. This is a basic demo..."
   ]
  },
  {
   "cell_type": "code",
   "execution_count": 1,
   "metadata": {
    "collapsed": false
   },
   "outputs": [],
   "source": [
    "%matplotlib inline\n",
    "%load_ext autoreload\n",
    "%autoreload 2"
   ]
  },
  {
   "cell_type": "code",
   "execution_count": 2,
   "metadata": {
    "collapsed": true
   },
   "outputs": [],
   "source": [
    "import numpy as np\n",
    "import matplotlib as mpl\n",
    "import matplotlib.pyplot as plt\n",
    "\n",
    "# for making plots prettier\n",
    "import seaborn as sns \n",
    "sns.set_style('white')"
   ]
  },
  {
   "cell_type": "code",
   "execution_count": 3,
   "metadata": {
    "collapsed": true
   },
   "outputs": [],
   "source": [
    "from __future__ import print_function\n",
    "np.random.seed(1337)  # for reproducibility"
   ]
  },
  {
   "cell_type": "code",
   "execution_count": 4,
   "metadata": {
    "collapsed": false
   },
   "outputs": [
    {
     "name": "stderr",
     "output_type": "stream",
     "text": [
      "Using TensorFlow backend.\n"
     ]
    }
   ],
   "source": [
    "from keras.datasets import mnist\n",
    "from keras.models import Sequential\n",
    "from keras.layers.core import Dense, Dropout, Activation\n",
    "from keras.optimizers import RMSprop\n",
    "from keras.utils import np_utils"
   ]
  },
  {
   "cell_type": "code",
   "execution_count": 5,
   "metadata": {
    "collapsed": true
   },
   "outputs": [],
   "source": [
    "import notmnist\n",
    "notmnist_path = \"~/class/udacity-deep-learning/notMNIST.pickle\""
   ]
  },
  {
   "cell_type": "code",
   "execution_count": 6,
   "metadata": {
    "collapsed": false
   },
   "outputs": [],
   "source": [
    "from display import visualize_keras_model, plot_training_curves"
   ]
  },
  {
   "cell_type": "code",
   "execution_count": 7,
   "metadata": {
    "collapsed": true
   },
   "outputs": [],
   "source": [
    "batch_size = 128\n",
    "nb_classes = 10\n",
    "nb_epoch = 10"
   ]
  },
  {
   "cell_type": "code",
   "execution_count": 8,
   "metadata": {
    "collapsed": false
   },
   "outputs": [],
   "source": [
    "# the data, shuffled and split between train, validation, and test sets\n",
    "(x_train, y_train), (x_valid, y_valid), (x_test, y_test) = notmnist.load_data(notmnist_path)"
   ]
  },
  {
   "cell_type": "markdown",
   "metadata": {},
   "source": [
    "Reshape inputs to be flat.\n",
    "Convert labels to 1-hot encoding."
   ]
  },
  {
   "cell_type": "code",
   "execution_count": 9,
   "metadata": {
    "collapsed": false
   },
   "outputs": [
    {
     "name": "stdout",
     "output_type": "stream",
     "text": [
      "50000 train samples\n",
      "10000 valid samples\n",
      "10000 test samples\n"
     ]
    }
   ],
   "source": [
    "x_train = x_train.reshape(-1, 784)\n",
    "x_valid = x_valid.reshape(-1, 784)\n",
    "x_test = x_test.reshape(-1, 784)\n",
    "print(x_train.shape[0], 'train samples')\n",
    "print(x_valid.shape[0], 'valid samples')\n",
    "print(x_test.shape[0], 'test samples')"
   ]
  },
  {
   "cell_type": "code",
   "execution_count": 10,
   "metadata": {
    "collapsed": true
   },
   "outputs": [],
   "source": [
    "# convert class vectors to binary class matrices\n",
    "y_train = np_utils.to_categorical(y_train, nb_classes)\n",
    "y_valid = np_utils.to_categorical(y_valid, nb_classes)\n",
    "y_test = np_utils.to_categorical(y_test, nb_classes)"
   ]
  },
  {
   "cell_type": "code",
   "execution_count": 11,
   "metadata": {
    "collapsed": false
   },
   "outputs": [],
   "source": [
    "model = Sequential()\n",
    "model.add(Dense(128, input_shape=(784,), name=\"hidden\"))\n",
    "model.add(Activation('relu', name=\"ReLU\"))\n",
    "model.add(Dense(10, name=\"output\"))\n",
    "model.add(Activation('softmax', name=\"softmax\"))\n",
    "\n",
    "model.compile(loss='categorical_crossentropy',\n",
    "              optimizer=RMSprop(),\n",
    "              metrics=['accuracy'])"
   ]
  },
  {
   "cell_type": "markdown",
   "metadata": {},
   "source": [
    "# Understanding the computation graph\n",
    "\n",
    "Keras has built-in ways to view network. Let's look at them again."
   ]
  },
  {
   "cell_type": "code",
   "execution_count": 12,
   "metadata": {
    "collapsed": false
   },
   "outputs": [
    {
     "name": "stdout",
     "output_type": "stream",
     "text": [
      "_________________________________________________________________\n",
      "Layer (type)                 Output Shape              Param #   \n",
      "=================================================================\n",
      "hidden (Dense)               (None, 128)               100480    \n",
      "_________________________________________________________________\n",
      "ReLU (Activation)            (None, 128)               0         \n",
      "_________________________________________________________________\n",
      "output (Dense)               (None, 10)                1290      \n",
      "_________________________________________________________________\n",
      "softmax (Activation)         (None, 10)                0         \n",
      "=================================================================\n",
      "Total params: 101,770.0\n",
      "Trainable params: 101,770.0\n",
      "Non-trainable params: 0.0\n",
      "_________________________________________________________________\n"
     ]
    }
   ],
   "source": [
    "model.summary()"
   ]
  },
  {
   "cell_type": "markdown",
   "metadata": {},
   "source": [
    "The `summary()` lets us check that the tensors flowing through the network have the expected shape.\n",
    "\n",
    "The graphical visualization below is useful for more complex architectures. Here, it's just pretty :)"
   ]
  },
  {
   "cell_type": "code",
   "execution_count": 13,
   "metadata": {
    "collapsed": false
   },
   "outputs": [
    {
     "data": {
      "image/svg+xml": [
       "<svg height=\"342pt\" viewBox=\"0.00 0.00 168.00 342.00\" width=\"168pt\" xmlns=\"http://www.w3.org/2000/svg\" xmlns:xlink=\"http://www.w3.org/1999/xlink\">\n",
       "<g class=\"graph\" id=\"graph0\" transform=\"scale(1 1) rotate(0) translate(4 338)\">\n",
       "<title>G</title>\n",
       "<polygon fill=\"white\" points=\"-4,4 -4,-338 164,-338 164,4 -4,4\" stroke=\"none\"/>\n",
       "<!-- 4708791248 -->\n",
       "<g class=\"node\" id=\"node1\"><title>4708791248</title>\n",
       "<polygon fill=\"none\" points=\"0,-297 0,-333 160,-333 160,-297 0,-297\" stroke=\"black\"/>\n",
       "<text font-family=\"Times,serif\" font-size=\"14.00\" text-anchor=\"middle\" x=\"80\" y=\"-311.3\">hidden_input: InputLayer</text>\n",
       "</g>\n",
       "<!-- 4708790736 -->\n",
       "<g class=\"node\" id=\"node2\"><title>4708790736</title>\n",
       "<polygon fill=\"none\" points=\"31.5,-223 31.5,-259 128.5,-259 128.5,-223 31.5,-223\" stroke=\"black\"/>\n",
       "<text font-family=\"Times,serif\" font-size=\"14.00\" text-anchor=\"middle\" x=\"80\" y=\"-237.3\">hidden: Dense</text>\n",
       "</g>\n",
       "<!-- 4708791248&#45;&gt;4708790736 -->\n",
       "<g class=\"edge\" id=\"edge1\"><title>4708791248-&gt;4708790736</title>\n",
       "<path d=\"M80,-296.937C80,-288.807 80,-278.876 80,-269.705\" fill=\"none\" stroke=\"black\"/>\n",
       "<polygon fill=\"black\" points=\"83.5001,-269.441 80,-259.441 76.5001,-269.441 83.5001,-269.441\" stroke=\"black\"/>\n",
       "</g>\n",
       "<!-- 4708954960 -->\n",
       "<g class=\"node\" id=\"node3\"><title>4708954960</title>\n",
       "<polygon fill=\"none\" points=\"21.5,-149 21.5,-185 138.5,-185 138.5,-149 21.5,-149\" stroke=\"black\"/>\n",
       "<text font-family=\"Times,serif\" font-size=\"14.00\" text-anchor=\"middle\" x=\"80\" y=\"-163.3\">ReLU: Activation</text>\n",
       "</g>\n",
       "<!-- 4708790736&#45;&gt;4708954960 -->\n",
       "<g class=\"edge\" id=\"edge2\"><title>4708790736-&gt;4708954960</title>\n",
       "<path d=\"M80,-222.937C80,-214.807 80,-204.876 80,-195.705\" fill=\"none\" stroke=\"black\"/>\n",
       "<polygon fill=\"black\" points=\"83.5001,-195.441 80,-185.441 76.5001,-195.441 83.5001,-195.441\" stroke=\"black\"/>\n",
       "</g>\n",
       "<!-- 4708879760 -->\n",
       "<g class=\"node\" id=\"node4\"><title>4708879760</title>\n",
       "<polygon fill=\"none\" points=\"32.5,-75 32.5,-111 127.5,-111 127.5,-75 32.5,-75\" stroke=\"black\"/>\n",
       "<text font-family=\"Times,serif\" font-size=\"14.00\" text-anchor=\"middle\" x=\"80\" y=\"-89.3\">output: Dense</text>\n",
       "</g>\n",
       "<!-- 4708954960&#45;&gt;4708879760 -->\n",
       "<g class=\"edge\" id=\"edge3\"><title>4708954960-&gt;4708879760</title>\n",
       "<path d=\"M80,-148.937C80,-140.807 80,-130.876 80,-121.705\" fill=\"none\" stroke=\"black\"/>\n",
       "<polygon fill=\"black\" points=\"83.5001,-121.441 80,-111.441 76.5001,-121.441 83.5001,-121.441\" stroke=\"black\"/>\n",
       "</g>\n",
       "<!-- 4708955216 -->\n",
       "<g class=\"node\" id=\"node5\"><title>4708955216</title>\n",
       "<polygon fill=\"none\" points=\"16,-1 16,-37 144,-37 144,-1 16,-1\" stroke=\"black\"/>\n",
       "<text font-family=\"Times,serif\" font-size=\"14.00\" text-anchor=\"middle\" x=\"80\" y=\"-15.3\">softmax: Activation</text>\n",
       "</g>\n",
       "<!-- 4708879760&#45;&gt;4708955216 -->\n",
       "<g class=\"edge\" id=\"edge4\"><title>4708879760-&gt;4708955216</title>\n",
       "<path d=\"M80,-74.937C80,-66.8072 80,-56.8761 80,-47.7047\" fill=\"none\" stroke=\"black\"/>\n",
       "<polygon fill=\"black\" points=\"83.5001,-47.4406 80,-37.4407 76.5001,-47.4407 83.5001,-47.4406\" stroke=\"black\"/>\n",
       "</g>\n",
       "</g>\n",
       "</svg>"
      ],
      "text/plain": [
       "<IPython.core.display.SVG object>"
      ]
     },
     "execution_count": 13,
     "metadata": {},
     "output_type": "execute_result"
    }
   ],
   "source": [
    "visualize_keras_model(model)"
   ]
  },
  {
   "cell_type": "markdown",
   "metadata": {},
   "source": [
    "# Adding TensorBoard\n",
    "\n",
    "(Ref: https://keras.io/callbacks/#tensorboard)\n",
    "\n",
    "To use TensorBoard in Keras, we need to tell the optimizer to log info as the network learns."
   ]
  },
  {
   "cell_type": "code",
   "execution_count": 14,
   "metadata": {
    "collapsed": false
   },
   "outputs": [],
   "source": [
    "from keras.callbacks import TensorBoard\n",
    "\n",
    "def make_tb_callback(run):\n",
    "    \"\"\"\n",
    "    Make a callback function to be called during training.\n",
    "    \n",
    "    Args:\n",
    "        run: folder name to save log in. \n",
    "    \n",
    "    Made this a function since we need to recreate it when\n",
    "    resetting the session. \n",
    "    (See https://github.com/fchollet/keras/issues/4499)\n",
    "    \"\"\"\n",
    "    return TensorBoard(\n",
    "            # where to save log file\n",
    "            log_dir='./graph-tb-demo/' + run,\n",
    "            # how often (in epochs) to compute activation histograms\n",
    "            # (more frequently slows down training)\n",
    "            histogram_freq=1, \n",
    "            # whether to visualize the network graph.\n",
    "            # This now works reasonably in Keras 2.01!\n",
    "            write_graph=True,\n",
    "            # if true, write layer weights as images\n",
    "            write_images=False)\n",
    "\n",
    "tb_callback = make_tb_callback('1')\n"
   ]
  },
  {
   "cell_type": "code",
   "execution_count": 15,
   "metadata": {
    "collapsed": false
   },
   "outputs": [
    {
     "name": "stderr",
     "output_type": "stream",
     "text": [
      "/Users/shnayder/anaconda/lib/python2.7/site-packages/keras/models.py:826: UserWarning: The `nb_epoch` argument in `fit` has been renamed `epochs`.\n",
      "  warnings.warn('The `nb_epoch` argument in `fit` '\n"
     ]
    },
    {
     "name": "stdout",
     "output_type": "stream",
     "text": [
      "Train on 50000 samples, validate on 10000 samples\n",
      "INFO:tensorflow:Summary name hidden/kernel:0 is illegal; using hidden/kernel_0 instead.\n",
      "INFO:tensorflow:Summary name hidden/bias:0 is illegal; using hidden/bias_0 instead.\n",
      "INFO:tensorflow:Summary name output/kernel:0 is illegal; using output/kernel_0 instead.\n",
      "INFO:tensorflow:Summary name output/bias:0 is illegal; using output/bias_0 instead.\n",
      "Epoch 1/20\n",
      "50000/50000 [==============================] - 1s - loss: 0.6063 - acc: 0.8278 - val_loss: 0.5370 - val_acc: 0.8444\n",
      "Epoch 2/20\n",
      "50000/50000 [==============================] - 1s - loss: 0.4806 - acc: 0.8602 - val_loss: 0.5005 - val_acc: 0.8554\n",
      "Epoch 3/20\n",
      "50000/50000 [==============================] - 1s - loss: 0.4282 - acc: 0.8736 - val_loss: 0.4932 - val_acc: 0.8593\n",
      "Epoch 4/20\n",
      "50000/50000 [==============================] - 1s - loss: 0.3910 - acc: 0.8851 - val_loss: 0.4699 - val_acc: 0.8671\n",
      "Epoch 5/20\n",
      "50000/50000 [==============================] - 1s - loss: 0.3622 - acc: 0.8958 - val_loss: 0.4795 - val_acc: 0.8657\n",
      "Epoch 6/20\n",
      "50000/50000 [==============================] - 1s - loss: 0.3365 - acc: 0.9003 - val_loss: 0.4731 - val_acc: 0.8677\n",
      "Epoch 7/20\n",
      "50000/50000 [==============================] - 1s - loss: 0.3155 - acc: 0.9071 - val_loss: 0.4764 - val_acc: 0.8686\n",
      "Epoch 8/20\n",
      "50000/50000 [==============================] - 1s - loss: 0.2971 - acc: 0.9119 - val_loss: 0.4801 - val_acc: 0.8674\n",
      "Epoch 9/20\n",
      "50000/50000 [==============================] - 1s - loss: 0.2777 - acc: 0.9181 - val_loss: 0.4963 - val_acc: 0.8672\n",
      "Epoch 10/20\n",
      "50000/50000 [==============================] - 1s - loss: 0.2637 - acc: 0.9230 - val_loss: 0.4867 - val_acc: 0.8705\n",
      "Epoch 11/20\n",
      "50000/50000 [==============================] - 1s - loss: 0.2483 - acc: 0.9273 - val_loss: 0.4923 - val_acc: 0.8712\n",
      "Epoch 12/20\n",
      "50000/50000 [==============================] - 1s - loss: 0.2339 - acc: 0.9311 - val_loss: 0.5056 - val_acc: 0.8698\n",
      "Epoch 13/20\n",
      "50000/50000 [==============================] - 1s - loss: 0.2224 - acc: 0.9354 - val_loss: 0.5197 - val_acc: 0.8661\n",
      "Epoch 14/20\n",
      "50000/50000 [==============================] - 1s - loss: 0.2109 - acc: 0.9378 - val_loss: 0.5211 - val_acc: 0.8694\n",
      "Epoch 15/20\n",
      "50000/50000 [==============================] - 1s - loss: 0.1995 - acc: 0.9420 - val_loss: 0.5263 - val_acc: 0.8716\n",
      "Epoch 16/20\n",
      "50000/50000 [==============================] - 1s - loss: 0.1892 - acc: 0.9459 - val_loss: 0.5442 - val_acc: 0.8655\n",
      "Epoch 17/20\n",
      "50000/50000 [==============================] - 1s - loss: 0.1785 - acc: 0.9485 - val_loss: 0.5446 - val_acc: 0.8708\n",
      "Epoch 18/20\n",
      "50000/50000 [==============================] - 1s - loss: 0.1700 - acc: 0.9518 - val_loss: 0.5553 - val_acc: 0.8696\n",
      "Epoch 19/20\n",
      "50000/50000 [==============================] - 1s - loss: 0.1607 - acc: 0.9537 - val_loss: 0.5802 - val_acc: 0.8685\n",
      "Epoch 20/20\n",
      "50000/50000 [==============================] - 1s - loss: 0.1529 - acc: 0.9562 - val_loss: 0.5659 - val_acc: 0.8728\n"
     ]
    }
   ],
   "source": [
    "# and add it to our model.fit call\n",
    "history = model.fit(x_train, y_train,\n",
    "                    batch_size=batch_size, nb_epoch=20,\n",
    "                    verbose=1, validation_data=(x_valid, y_valid),\n",
    "                    callbacks=[tb_callback])"
   ]
  },
  {
   "cell_type": "code",
   "execution_count": 16,
   "metadata": {
    "collapsed": false
   },
   "outputs": [
    {
     "data": {
      "image/png": "[encoded data removed]",
      "text/plain": [
       "<matplotlib.figure.Figure at 0x11930df50>"
      ]
     },
     "metadata": {},
     "output_type": "display_data"
    }
   ],
   "source": [
    "# Let's look at our manually visualized learning curves first\n",
    "plot_training_curves(history.history);"
   ]
  },
  {
   "cell_type": "markdown",
   "metadata": {},
   "source": [
    "# TensorBoard visualizations\n",
    "\n",
    "During (or after) running the above, we can run\n",
    "\n",
    "```tensorboard --logdir=graph-tb-demo/```\n",
    "\n",
    "And then open 0.0.0.0:6006 in a browser to take a look at the results. We can see learning curves in the Scalars tab:\n",
    "\n",
    "## Accuracy:\n",
    "\n",
    "<img src=\"img/tb-demo-acc.png\" width=\"400\">\n",
    "\n",
    "## Loss:\n",
    "<img src=\"img/tb-demo-loss.png\" width=\"400\">\n",
    "\n",
    "## Validation accuracy\n",
    "<img src=\"img/tb-demo-val-acc.png\" width=\"400\">\n",
    "\n",
    "Much the same -- not very interesting so far. But it gets better -- we can e.g. look at histograms of our variables over time. Here's the output distribution: \n",
    "\n",
    "<img src=\"img/tb-demo-output-hist.png\" width=\"400\">\n",
    "\n",
    "We can see that the distribution is shifting to lower values and is getting wider over time.\n",
    "\n",
    "## Graph\n",
    "\n",
    "We can also see a much more detailed view of the computation graph. Here's is a partial screenshot:\n",
    "\n",
    "<img src=\"img/tb-demo-graph.png\" width=\"400\">\n",
    "\n",
    "(Read the TensorBoard docs for many more details)."
   ]
  },
  {
   "cell_type": "markdown",
   "metadata": {},
   "source": [
    "We'll use TensorBoard to eval our models later in the workshop."
   ]
  },
  {
   "cell_type": "markdown",
   "metadata": {},
   "source": [
    "Let's try our final model with more layers and dropout."
   ]
  },
  {
   "cell_type": "code",
   "execution_count": 17,
   "metadata": {
    "collapsed": true
   },
   "outputs": [],
   "source": [
    "# Uncomment if getting a \"Invalid argument: You must feed a value\n",
    "# for placeholder tensor ...\" when rerunning training. \n",
    "# https://github.com/fchollet/keras/issues/4499\n",
    "from keras.layers.core import K\n",
    "K.clear_session() \n",
    "### \n",
    "\n",
    "model3 = Sequential()\n",
    "model3.add(Dense(512, input_shape=(784,), name=\"hidden1\"))\n",
    "model3.add(Activation('relu', name=\"ReLU1\"))\n",
    "model3.add(Dropout(0.5))\n",
    "model3.add(Dense(512, input_shape=(784,), name=\"hidden2\"))\n",
    "model3.add(Activation('relu', name=\"ReLU2\"))\n",
    "model3.add(Dropout(0.5))\n",
    "model3.add(Dense(10, name=\"output\"))\n",
    "model3.add(Activation('softmax', name=\"softmax\"))\n",
    "\n",
    "model3.compile(loss='categorical_crossentropy',\n",
    "              optimizer=RMSprop(),\n",
    "              metrics=['accuracy'])\n"
   ]
  },
  {
   "cell_type": "code",
   "execution_count": 18,
   "metadata": {
    "collapsed": false
   },
   "outputs": [
    {
     "name": "stdout",
     "output_type": "stream",
     "text": [
      "Train on 50000 samples, validate on 10000 samples\n",
      "INFO:tensorflow:Summary name hidden1/kernel:0 is illegal; using hidden1/kernel_0 instead.\n",
      "INFO:tensorflow:Summary name hidden1/bias:0 is illegal; using hidden1/bias_0 instead.\n",
      "INFO:tensorflow:Summary name hidden2/kernel:0 is illegal; using hidden2/kernel_0 instead.\n",
      "INFO:tensorflow:Summary name hidden2/bias:0 is illegal; using hidden2/bias_0 instead.\n",
      "INFO:tensorflow:Summary name output/kernel:0 is illegal; using output/kernel_0 instead.\n",
      "INFO:tensorflow:Summary name output/bias:0 is illegal; using output/bias_0 instead.\n",
      "Epoch 1/20\n",
      "50000/50000 [==============================] - 7s - loss: 0.6985 - acc: 0.7953 - val_loss: 0.5253 - val_acc: 0.8388\n",
      "Epoch 2/20\n",
      "50000/50000 [==============================] - 6s - loss: 0.5590 - acc: 0.8349 - val_loss: 0.4755 - val_acc: 0.8590\n",
      "Epoch 3/20\n",
      "50000/50000 [==============================] - 6s - loss: 0.5252 - acc: 0.8445 - val_loss: 0.4631 - val_acc: 0.8613\n",
      "Epoch 4/20\n",
      "50000/50000 [==============================] - 5s - loss: 0.5014 - acc: 0.8509 - val_loss: 0.4463 - val_acc: 0.8670\n",
      "Epoch 5/20\n",
      "50000/50000 [==============================] - 6s - loss: 0.4845 - acc: 0.8546 - val_loss: 0.4457 - val_acc: 0.8685\n",
      "Epoch 6/20\n",
      "50000/50000 [==============================] - 5s - loss: 0.4741 - acc: 0.8580 - val_loss: 0.4425 - val_acc: 0.8693\n",
      "Epoch 7/20\n",
      "50000/50000 [==============================] - 5s - loss: 0.4658 - acc: 0.8616 - val_loss: 0.4301 - val_acc: 0.8733\n",
      "Epoch 8/20\n",
      "50000/50000 [==============================] - 6s - loss: 0.4565 - acc: 0.8657 - val_loss: 0.4368 - val_acc: 0.8682\n",
      "Epoch 9/20\n",
      "50000/50000 [==============================] - 6s - loss: 0.4537 - acc: 0.8652 - val_loss: 0.4296 - val_acc: 0.8779\n",
      "Epoch 10/20\n",
      "50000/50000 [==============================] - 6s - loss: 0.4506 - acc: 0.8666 - val_loss: 0.4240 - val_acc: 0.8751\n",
      "Epoch 11/20\n",
      "50000/50000 [==============================] - 6s - loss: 0.4498 - acc: 0.8686 - val_loss: 0.4327 - val_acc: 0.8761\n",
      "Epoch 12/20\n",
      "50000/50000 [==============================] - 6s - loss: 0.4406 - acc: 0.8710 - val_loss: 0.4234 - val_acc: 0.8774\n",
      "Epoch 13/20\n",
      "50000/50000 [==============================] - 5s - loss: 0.4427 - acc: 0.8715 - val_loss: 0.4398 - val_acc: 0.8715\n",
      "Epoch 14/20\n",
      "50000/50000 [==============================] - 6s - loss: 0.4374 - acc: 0.8738 - val_loss: 0.4263 - val_acc: 0.8764\n",
      "Epoch 15/20\n",
      "50000/50000 [==============================] - 6s - loss: 0.4307 - acc: 0.8753 - val_loss: 0.4374 - val_acc: 0.8773\n",
      "Epoch 16/20\n",
      "50000/50000 [==============================] - 6s - loss: 0.4356 - acc: 0.8761 - val_loss: 0.4373 - val_acc: 0.8770\n",
      "Epoch 17/20\n",
      "50000/50000 [==============================] - 6s - loss: 0.4286 - acc: 0.8759 - val_loss: 0.4250 - val_acc: 0.8789\n",
      "Epoch 18/20\n",
      "50000/50000 [==============================] - 6s - loss: 0.4238 - acc: 0.8775 - val_loss: 0.4361 - val_acc: 0.8776\n",
      "Epoch 19/20\n",
      "50000/50000 [==============================] - 6s - loss: 0.4366 - acc: 0.8753 - val_loss: 0.4411 - val_acc: 0.8770\n",
      "Epoch 20/20\n",
      "50000/50000 [==============================] - 6s - loss: 0.4250 - acc: 0.8787 - val_loss: 0.4312 - val_acc: 0.8783\n"
     ]
    }
   ],
   "source": [
    "tb_callback = make_tb_callback('complex')\n",
    "history = model3.fit(x_train, y_train,\n",
    "                    batch_size=batch_size, nb_epoch=20,\n",
    "                    verbose=1, validation_data=(x_valid, y_valid),\n",
    "                     # Don't forget to include the callback!\n",
    "                    callbacks=[tb_callback])"
   ]
  },
  {
   "cell_type": "code",
   "execution_count": 19,
   "metadata": {
    "collapsed": false
   },
   "outputs": [
    {
     "data": {
      "image/png": "[encoded data removed]",
      "text/plain": [
       "<matplotlib.figure.Figure at 0x11a108290>"
      ]
     },
     "metadata": {},
     "output_type": "display_data"
    }
   ],
   "source": [
    "plot_training_curves(history.history);"
   ]
  },
  {
   "cell_type": "markdown",
   "metadata": {},
   "source": [
    "# Comparing runs\n",
    "\n",
    "TensorBoard lets us easily compare different runs (when saved to different subfolders). Here are the training and validation accuracy of the two above models:\n",
    "\n",
    "<img src=\"img/tb-demo-acc-complex.png\" width=\"400\">\n",
    "<img src=\"img/tb-demo-val-acc-complex.png\" width=\"400\">\n",
    "\n",
    "We can see that the more complex model generalizes better -- lower training accuracy, but higher validation."
   ]
  }
 ],
 "metadata": {
  "anaconda-cloud": {},
  "kernelspec": {
   "display_name": "Python [default]",
   "language": "python",
   "name": "python2"
  },
  "language_info": {
   "codemirror_mode": {
    "name": "ipython",
    "version": 2
   },
   "file_extension": ".py",
   "mimetype": "text/x-python",
   "name": "python",
   "nbconvert_exporter": "python",
   "pygments_lexer": "ipython2",
   "version": "2.7.12"
  }
 },
 "nbformat": 4,
 "nbformat_minor": 1
}
