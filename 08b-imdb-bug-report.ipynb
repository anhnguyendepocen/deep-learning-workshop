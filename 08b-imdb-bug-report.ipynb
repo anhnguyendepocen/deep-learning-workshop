{
 "cells": [
  {
   "cell_type": "markdown",
   "metadata": {},
   "source": [
    "# Filing imdb bug"
   ]
  },
  {
   "cell_type": "code",
   "execution_count": 10,
   "metadata": {
    "collapsed": false,
    "scrolled": false
   },
   "outputs": [
    {
     "name": "stdout",
     "output_type": "stream",
     "text": [
      "2.0.1\n",
      "New commit review -- makes no sense:\n",
      "the as you with out themselves powerful lets loves their becomes reaching had journalist of lot from anyone to have\n",
      "\n",
      "Old commit review:\n",
      "bromwell high is a cartoon comedy it ran at the same time as some other programs about school life such\n"
     ]
    }
   ],
   "source": [
    "import keras\n",
    "from keras.datasets import imdb\n",
    "import cPickle as pickle\n",
    "import os.path\n",
    "\n",
    "word2index = imdb.get_word_index()\n",
    "index2word = dict([(i,w) for (w,i) in word2index.items()])\n",
    "\n",
    "# use new load_data\n",
    "# (post https://github.com/fchollet/keras/commit/b0500764a8a451882262328c0f1676402fb0a783)\n",
    "(x_train, y_train), (x_test, y_test) = imdb.load_data()\n",
    "\n",
    "# Load manually downloaded old pickle file (before above commit)\n",
    "# from https://s3.amazonaws.com/text-datasets/imdb_full.pkl\n",
    "path = os.path.expanduser('~/.keras/datasets/imdb_full.pkl')\n",
    "f = open(path, 'rb')\n",
    "(x_train2, y_train2), (x_test2, y_test2) = pickle.load(f)\n",
    "\n",
    "def totext(review):\n",
    "    return ' '.join(index2word[i] for i in review)\n",
    "\n",
    "print(keras.__version__)\n",
    "\n",
    "print(\"New commit review -- makes no sense:\")\n",
    "print(totext(x_train[0][:20]))\n",
    "\n",
    "print(\"\\nOld commit review:\")\n",
    "print(totext(x_train2[0][:20]))\n"
   ]
  }
 ],
 "metadata": {
  "kernelspec": {
   "display_name": "Python [default]",
   "language": "python",
   "name": "python2"
  },
  "language_info": {
   "codemirror_mode": {
    "name": "ipython",
    "version": 2
   },
   "file_extension": ".py",
   "mimetype": "text/x-python",
   "name": "python",
   "nbconvert_exporter": "python",
   "pygments_lexer": "ipython2",
   "version": "2.7.12"
  }
 },
 "nbformat": 4,
 "nbformat_minor": 1
}
