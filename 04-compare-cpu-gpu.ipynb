{
 "cells": [
  {
   "cell_type": "markdown",
   "metadata": {},
   "source": [
    "# Why GPUs matter\n",
    "\n",
    "Let's compare GPU vs CPU performance at training a network...\n",
    "\n",
    "Of course, this notebook will only run on a machine with a TensorFlow-supported gpu. I tested in on a AWS g2 instance."
   ]
  },
  {
   "cell_type": "code",
   "execution_count": null,
   "metadata": {
    "collapsed": true
   },
   "outputs": [],
   "source": [
    "# for DSX, need to switch to the right directory. Detect using path name.\n",
    "s = %pwd\n",
    "if s.startswith('/gpfs'):\n",
    "    %cd ~/deep-learning-workshop/"
   ]
  },
  {
   "cell_type": "code",
   "execution_count": 1,
   "metadata": {
    "collapsed": false
   },
   "outputs": [],
   "source": [
    "%matplotlib inline\n",
    "import matplotlib.pyplot as plt"
   ]
  },
  {
   "cell_type": "code",
   "execution_count": 2,
   "metadata": {
    "collapsed": true
   },
   "outputs": [],
   "source": [
    "import numpy as np\n",
    "import time\n",
    "\n",
    "# for making plots prettier\n",
    "import seaborn as sns \n",
    "sns.set_style('white')"
   ]
  },
  {
   "cell_type": "code",
   "execution_count": 3,
   "metadata": {
    "collapsed": true
   },
   "outputs": [],
   "source": [
    "from __future__ import print_function\n",
    "np.random.seed(1337)  # for reproducibility"
   ]
  },
  {
   "cell_type": "code",
   "execution_count": 4,
   "metadata": {
    "collapsed": false
   },
   "outputs": [
    {
     "name": "stderr",
     "output_type": "stream",
     "text": [
      "Using TensorFlow backend.\n"
     ]
    }
   ],
   "source": [
    "# We'll need to use tensorflow directly to tell it to train on CPU or GPU\n",
    "import tensorflow as tf\n",
    "\n",
    "from keras.datasets import mnist\n",
    "from keras.models import Sequential\n",
    "from keras.layers import Dense, Dropout, Activation, Flatten\n",
    "from keras.layers import Convolution2D, MaxPooling2D\n",
    "from keras.utils import np_utils"
   ]
  },
  {
   "cell_type": "code",
   "execution_count": 5,
   "metadata": {
    "collapsed": true
   },
   "outputs": [],
   "source": [
    "batch_size = 128\n",
    "nb_classes = 10\n",
    "nb_epoch = 3\n",
    "\n",
    "# input image dimensions\n",
    "img_rows, img_cols = 28, 28\n",
    "# number of convolutional filters to use\n",
    "nb_filters = 64\n",
    "# size of pooling area for max pooling\n",
    "pool_size = (2, 2)\n",
    "# convolution kernel size\n",
    "kernel_size = (3, 3)"
   ]
  },
  {
   "cell_type": "code",
   "execution_count": 6,
   "metadata": {
    "collapsed": false
   },
   "outputs": [
    {
     "name": "stdout",
     "output_type": "stream",
     "text": [
      "x_train shape: (50000, 28, 28, 1)\n",
      "50000 train samples\n",
      "10000 valid samples\n",
      "10000 test samples\n"
     ]
    }
   ],
   "source": [
    "import notmnist\n",
    "notmnist_path = \"~/data/notmnist/notMNIST.pickle\"\n",
    "\n",
    "# the data, shuffled and split between train, validation, and test sets\n",
    "(x_train, y_train), (x_valid, y_valid), (x_test, y_test) = notmnist.load_data(notmnist_path)\n",
    "\n",
    "# Reshape inputs to be flat, convert labels to 1-hot encoding.\n",
    "\n",
    "# Reshape to have an extra dimension (useless for our black&white images, useful for RGB)\n",
    "x_train = x_train.reshape(-1, img_rows, img_cols, 1)\n",
    "x_valid = x_valid.reshape(-1, img_rows, img_cols, 1)\n",
    "x_test = x_test.reshape(-1, img_rows, img_cols, 1)\n",
    "input_shape = (img_rows, img_cols, 1)\n",
    "print(\"x_train shape:\", x_train.shape)\n",
    "print(x_train.shape[0], 'train samples')\n",
    "print(x_valid.shape[0], 'valid samples')\n",
    "print(x_test.shape[0], 'test samples')"
   ]
  },
  {
   "cell_type": "code",
   "execution_count": 7,
   "metadata": {
    "collapsed": true
   },
   "outputs": [],
   "source": [
    "# convert class vectors to binary class matrices\n",
    "y_train = np_utils.to_categorical(y_train, nb_classes)\n",
    "y_valid = np_utils.to_categorical(y_valid, nb_classes)\n",
    "y_test = np_utils.to_categorical(y_test, nb_classes)"
   ]
  },
  {
   "cell_type": "code",
   "execution_count": 8,
   "metadata": {
    "collapsed": true
   },
   "outputs": [],
   "source": [
    "# Helper function to make same model twice, once on CPU, then on GPU\n",
    "def make_model():\n",
    "    model = Sequential()\n",
    "    \n",
    "    # Here, we're making _convolutional_ network. We'll learn the details\n",
    "    # in future sessions. The key is that it requires lots of parallelizable \n",
    "    # computation...\n",
    "    model.add(Convolution2D(nb_filters, kernel_size[0], kernel_size[1],\n",
    "                            border_mode='valid',\n",
    "                            input_shape=input_shape))\n",
    "    model.add(Activation('relu'))\n",
    "    model.add(Convolution2D(nb_filters, kernel_size[0], kernel_size[1]))\n",
    "    model.add(Activation('relu'))\n",
    "    model.add(Convolution2D(nb_filters, kernel_size[0], kernel_size[1]))\n",
    "    model.add(Activation('relu'))\n",
    "    model.add(MaxPooling2D(pool_size=pool_size))\n",
    "    model.add(Dropout(0.25))\n",
    "\n",
    "    model.add(Flatten())\n",
    "    model.add(Dense(128))\n",
    "    model.add(Activation('relu'))\n",
    "    model.add(Dropout(0.5))\n",
    "    model.add(Dense(nb_classes))\n",
    "    model.add(Activation('softmax'))\n",
    "    return model"
   ]
  },
  {
   "cell_type": "markdown",
   "metadata": {},
   "source": [
    "# CPU"
   ]
  },
  {
   "cell_type": "code",
   "execution_count": 9,
   "metadata": {
    "collapsed": false
   },
   "outputs": [],
   "source": [
    "with tf.device('/cpu:0'):\n",
    "    model_cpu = make_model()\n",
    "\n",
    "model_cpu.compile(loss='categorical_crossentropy',\n",
    "              optimizer='adadelta',\n",
    "              metrics=['accuracy'])"
   ]
  },
  {
   "cell_type": "code",
   "execution_count": 10,
   "metadata": {
    "collapsed": false
   },
   "outputs": [
    {
     "name": "stdout",
     "output_type": "stream",
     "text": [
      "Train on 50000 samples, validate on 10000 samples\n",
      "Epoch 1/3\n",
      "50000/50000 [==============================] - 235s - loss: 0.7324 - acc: 0.7780 - val_loss: 0.4591 - val_acc: 0.8679\n",
      "Epoch 2/3\n",
      "50000/50000 [==============================] - 234s - loss: 0.4728 - acc: 0.8623 - val_loss: 0.4107 - val_acc: 0.8789\n",
      "Epoch 3/3\n",
      "50000/50000 [==============================] - 234s - loss: 0.4246 - acc: 0.8744 - val_loss: 0.3865 - val_acc: 0.8869\n"
     ]
    }
   ],
   "source": [
    "t0 = time.time()\n",
    "history = model_cpu.fit(x_train, y_train,\n",
    "                    batch_size=batch_size, nb_epoch=nb_epoch,\n",
    "                    verbose=1, validation_data=(x_valid, y_valid))\n",
    "t1 = time.time()\n",
    "\n",
    "total_cpu = t1-t0"
   ]
  },
  {
   "cell_type": "markdown",
   "metadata": {},
   "source": [
    "# GPU"
   ]
  },
  {
   "cell_type": "code",
   "execution_count": 11,
   "metadata": {
    "collapsed": false
   },
   "outputs": [],
   "source": [
    "with tf.device('/gpu:0'):\n",
    "    model_gpu = make_model()\n",
    "    \n",
    "model_gpu.compile(loss='categorical_crossentropy',\n",
    "              optimizer='adadelta',\n",
    "              metrics=['accuracy'])"
   ]
  },
  {
   "cell_type": "code",
   "execution_count": 13,
   "metadata": {
    "collapsed": false
   },
   "outputs": [
    {
     "name": "stdout",
     "output_type": "stream",
     "text": [
      "Train on 50000 samples, validate on 10000 samples\n",
      "Epoch 1/3\n",
      "50000/50000 [==============================] - 32s - loss: 0.7178 - acc: 0.7836 - val_loss: 0.4525 - val_acc: 0.8674\n",
      "Epoch 2/3\n",
      "50000/50000 [==============================] - 31s - loss: 0.4773 - acc: 0.8586 - val_loss: 0.4078 - val_acc: 0.8817\n",
      "Epoch 3/3\n",
      "50000/50000 [==============================] - 31s - loss: 0.4263 - acc: 0.8737 - val_loss: 0.3859 - val_acc: 0.8868\n"
     ]
    }
   ],
   "source": [
    "t0 = time.time()\n",
    "history = model_gpu.fit(x_train, y_train,\n",
    "                    batch_size=batch_size, nb_epoch=nb_epoch,\n",
    "                    verbose=1, validation_data=(x_valid, y_valid))\n",
    "t1 = time.time()\n",
    "total_gpu = t1-t0\n"
   ]
  },
  {
   "cell_type": "code",
   "execution_count": 17,
   "metadata": {
    "collapsed": false
   },
   "outputs": [
    {
     "name": "stdout",
     "output_type": "stream",
     "text": [
      "CPU:\n",
      "Test score: 0.193013398772\n",
      "Test accuracy: 0.9468\n",
      "GPU:\n",
      "Test score: 0.196715823737\n",
      "Test accuracy: 0.9444\n"
     ]
    }
   ],
   "source": [
    "# Ensure they got the same (modulo random noise) results\n",
    "def eval_model(model):\n",
    "    score = model.evaluate(x_test, y_test, verbose=0)\n",
    "    print('Test score:', score[0])\n",
    "    print('Test accuracy:', score[1])\n",
    "    \n",
    "print(\"CPU:\")\n",
    "eval_model(model_cpu)\n",
    "print(\"GPU:\")\n",
    "eval_model(model_gpu)"
   ]
  },
  {
   "cell_type": "code",
   "execution_count": 15,
   "metadata": {
    "collapsed": false
   },
   "outputs": [
    {
     "name": "stdout",
     "output_type": "stream",
     "text": [
      "Times:\n",
      "\tCPU: 704.2s\n",
      "\tGPU: 96.6s\n"
     ]
    }
   ],
   "source": [
    "print(\"Times:\\n\\tCPU: {:.1f}s\\n\\tGPU: {:.1f}s\".format(total_cpu, total_gpu))"
   ]
  },
  {
   "cell_type": "code",
   "execution_count": 16,
   "metadata": {
    "collapsed": false
   },
   "outputs": [
    {
     "data": {
      "image/png": "[encoded data removed]",
      "text/plain": [
       "<matplotlib.figure.Figure at 0x7fca245b3510>"
      ]
     },
     "metadata": {},
     "output_type": "display_data"
    }
   ],
   "source": [
    "sns.set_context(\"notebook\", font_scale=2)\n",
    "\n",
    "fig, ax = plt.subplots()\n",
    "ax.bar([0,1], [total_cpu, total_gpu])\n",
    "ax.set_ylabel('seconds')\n",
    "sns.despine(fig)\n",
    "ax.set_xticks([0.4, 1.4])\n",
    "ax.set_xticklabels(['CPU','GPU']);\n"
   ]
  },
  {
   "cell_type": "markdown",
   "metadata": {},
   "source": [
    "This is just an example with a small model and our tiny 28x28 images. More complex models can see an even larger difference."
   ]
  }
 ],
 "metadata": {
  "anaconda-cloud": {},
  "kernelspec": {
   "display_name": "Python [default]",
   "language": "python",
   "name": "python2"
  },
  "language_info": {
   "codemirror_mode": {
    "name": "ipython",
    "version": 2
   },
   "file_extension": ".py",
   "mimetype": "text/x-python",
   "name": "python",
   "nbconvert_exporter": "python",
   "pygments_lexer": "ipython2",
   "version": "2.7.12"
  }
 },
 "nbformat": 4,
 "nbformat_minor": 1
}
